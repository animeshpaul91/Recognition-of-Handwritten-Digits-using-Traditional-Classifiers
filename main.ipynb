{
 "cells": [
  {
   "cell_type": "markdown",
   "metadata": {},
   "source": [
    "### Import Necessary Libraries"
   ]
  },
  {
   "cell_type": "code",
   "execution_count": 1,
   "metadata": {},
   "outputs": [],
   "source": [
    "import pickle\n",
    "import gzip\n",
    "from PIL import Image\n",
    "import os\n",
    "import numpy as np\n",
    "import time\n",
    "import pandas as pd\n",
    "import matplotlib.pyplot as plt\n",
    "from sklearn.svm import SVC\n",
    "from sklearn.metrics import accuracy_score\n",
    "from sklearn.metrics import confusion_matrix\n",
    "from sklearn.preprocessing import MinMaxScaler\n",
    "from sklearn.preprocessing import StandardScaler\n",
    "from sklearn.ensemble import RandomForestClassifier\n",
    "from sklearn.neural_network import MLPClassifier"
   ]
  },
  {
   "cell_type": "markdown",
   "metadata": {},
   "source": [
    "### Load MNIST Data"
   ]
  },
  {
   "cell_type": "code",
   "execution_count": 2,
   "metadata": {},
   "outputs": [],
   "source": [
    "filename = 'mnist.pkl.gz'\n",
    "f = gzip.open(filename, 'rb')\n",
    "training_data, validation_data, test_data = pickle.load(f, encoding='latin1')\n",
    "f.close()"
   ]
  },
  {
   "cell_type": "code",
   "execution_count": 3,
   "metadata": {},
   "outputs": [
    {
     "name": "stdout",
     "output_type": "stream",
     "text": [
      "(50000, 785) (50000, 10) (50000,)\n",
      "(10000, 785) (10000, 10) (10000,)\n",
      "(10000, 785) (10000, 10) (10000,)\n"
     ]
    }
   ],
   "source": [
    "Training_X = training_data[0]\n",
    "Training_T = training_data[1]\n",
    "Validation_X = validation_data[0]\n",
    "Validation_T = validation_data[1]\n",
    "Test_X = test_data[0]\n",
    "Test_T = test_data[1]\n",
    "\n",
    "n = Training_X.shape[0] #Number of Training Data Points\n",
    "m = Training_X.shape[1] #Number of Training Features\n",
    "k = 10 # Number of target classes\n",
    "\n",
    "#Convert Training Targets into Hot Vectors\n",
    "temp = np.zeros((Training_T.shape[0],k))\n",
    "temp[np.arange(Training_T.shape[0]),Training_T] = 1\n",
    "H_Training_T = temp\n",
    "\n",
    "#Convert Validation Targets into Hot Vectors\n",
    "temp = np.zeros((Validation_T.shape[0],k))\n",
    "temp[np.arange(Validation_T.shape[0]),Validation_T] = 1\n",
    "H_Validation_T = temp\n",
    "\n",
    "#Convert Test Targets into Hot Vectors\n",
    "temp = np.zeros((Test_T.shape[0],k))\n",
    "temp[np.arange(Test_T.shape[0]),Test_T] = 1\n",
    "H_Test_T = temp\n",
    "\n",
    "#Adding Bias to Training, Validation and Test Data\n",
    "if Training_X.shape[1] == m:\n",
    "    Training_X = np.insert(Training_X, 0, 1, axis=1) #1 is bias term\n",
    "    Validation_X = np.insert(Validation_X, 0, 1, axis=1) #1 is bias term\n",
    "    Test_X = np.insert(Test_X, 0, 1, axis=1) #1 is bias term\n",
    "\n",
    "print(Training_X.shape, H_Training_T.shape, Training_T.shape)\n",
    "print(Validation_X.shape, H_Validation_T.shape, Validation_T.shape)\n",
    "print(Test_X.shape, H_Test_T.shape, Test_T.shape)"
   ]
  },
  {
   "cell_type": "markdown",
   "metadata": {},
   "source": [
    "### Load USPS Data"
   ]
  },
  {
   "cell_type": "code",
   "execution_count": 4,
   "metadata": {},
   "outputs": [],
   "source": [
    "USPSMat  = []\n",
    "USPSTar  = []\n",
    "curPath  = 'USPSdata/USPSdata/Numerals'\n",
    "#curPath  = 'USPSdata/USPSdata/Test'\n",
    "savedImg = []\n",
    "\n",
    "for j in range(0,10):\n",
    "    curFolderPath = curPath + '/' + str(j)\n",
    "    #curFolderPath = curPath\n",
    "    imgs =  os.listdir(curFolderPath)\n",
    "    for img in imgs:\n",
    "        curImg = curFolderPath + '/' + img\n",
    "        if curImg[-3:] == 'png':\n",
    "            img = Image.open(curImg,'r')\n",
    "            img = img.resize((28, 28))\n",
    "            savedImg = img\n",
    "            imgdata = (255-np.array(img.getdata()))/255\n",
    "            USPSMat.append(imgdata)\n",
    "            USPSTar.append(j)"
   ]
  },
  {
   "cell_type": "code",
   "execution_count": 5,
   "metadata": {},
   "outputs": [
    {
     "name": "stdout",
     "output_type": "stream",
     "text": [
      "(19999, 785) (19999, 10) (19999,)\n"
     ]
    }
   ],
   "source": [
    "USPSMat = np.array(USPSMat)\n",
    "USPSTar = np.array(USPSTar)\n",
    "\n",
    "#Adding Bias to Training, Validation and Test Data\n",
    "if USPSMat.shape[1] == m: \n",
    "    USPSMat = np.insert(USPSMat, 0, 1, axis=1) #1 is bias term\n",
    "\n",
    "#Convert Test Targets into Hot Vectors\n",
    "temp = np.zeros((USPSTar.shape[0],k))\n",
    "temp[np.arange(USPSTar.shape[0]) ,USPSTar] = 1\n",
    "H_USPSTar = temp\n",
    "\n",
    "print(USPSMat.shape, H_USPSTar.shape, USPSTar.shape)"
   ]
  },
  {
   "cell_type": "markdown",
   "metadata": {},
   "source": [
    "### Softmax Function"
   ]
  },
  {
   "cell_type": "code",
   "execution_count": 6,
   "metadata": {},
   "outputs": [],
   "source": [
    "def softmax(z):\n",
    "    t = np.exp(z)\n",
    "    a = np.exp(z) / np.sum(t, axis=1).reshape(-1,1)\n",
    "    return a"
   ]
  },
  {
   "cell_type": "markdown",
   "metadata": {},
   "source": [
    "### Cost Function"
   ]
  },
  {
   "cell_type": "code",
   "execution_count": 7,
   "metadata": {},
   "outputs": [],
   "source": [
    "def cost(w, x, y):\n",
    "    w = np.matrix(w)\n",
    "    x = np.matrix(x)\n",
    "    y = np.matrix(y)\n",
    "    first = np.multiply(-y, np.log(softmax(x * w)))\n",
    "    second = np.multiply((1 - y), np.log(1 - softmax(x * w)))\n",
    "    return np.sum(first - second) / (len(x))"
   ]
  },
  {
   "cell_type": "markdown",
   "metadata": {},
   "source": [
    "### Compute Gradient"
   ]
  },
  {
   "cell_type": "code",
   "execution_count": 8,
   "metadata": {},
   "outputs": [],
   "source": [
    "def gradient(w, x, t): #Weights, Training Data & Training Tergets\n",
    "    w = np.matrix(w, dtype = np.float128)\n",
    "    x = np.matrix(x, dtype = np.float128)\n",
    "    t = np.matrix(t, dtype = np.float128)\n",
    "    error = softmax(x * w) - t #Calculate nxk Error Matrix\n",
    "    grad = error.T * x\n",
    "    return grad"
   ]
  },
  {
   "cell_type": "markdown",
   "metadata": {},
   "source": [
    "### Softmax Regression using Gradient Descent"
   ]
  },
  {
   "cell_type": "code",
   "execution_count": 21,
   "metadata": {},
   "outputs": [
    {
     "name": "stdout",
     "output_type": "stream",
     "text": [
      "\n",
      "--- 4087.6492953300476 seconds ---\n"
     ]
    }
   ],
   "source": [
    "start_time = time.time()\n",
    "\n",
    "#Initialize weight vector\n",
    "#W_Now = np.random.rand(k,m)\n",
    "W_Now = np.zeros((k,m))\n",
    "W_Now = np.insert(W_Now, 0, 0.1, axis=1) #0.1 is bias weight term\n",
    "#print(W_Now.T.shape)\n",
    "learningRate = 0.001\n",
    "la = 2\n",
    "TrainAcc = []\n",
    "ValAcc = []\n",
    "\n",
    "for i in range(0,200): #Num of Epochs\n",
    "    #print(\"Epoch= \"+str(i))\n",
    "    #print(\"Loss for \" +str(i)+ \"Epoch: \" +str(cost(W_Now.T, Training_X, H_Training_T)))\n",
    "    delta_W = gradient(W_Now.T, Training_X, H_Training_T) # KxM Matrix returned\n",
    "    W_Next = W_Now - (np.dot(learningRate, delta_W))\n",
    "    W_Now = W_Next\n",
    "    \n",
    "    Y_Train = softmax(np.matmul(Training_X, W_Now.T))\n",
    "    Y_Train_Argmax = np.array([np.argmax(Y_Train[i]) for i in range(0,len(Y_Train))])\n",
    "    diff = np.subtract(Y_Train_Argmax, Training_T)\n",
    "    non_zeros = np.count_nonzero(diff)\n",
    "    accuracy = ((len(diff) - non_zeros)/len(diff))*100\n",
    "    TrainAcc.append(accuracy)\n",
    "    \n",
    "    Y_Val = softmax(np.matmul(Validation_X, W_Now.T))\n",
    "    Y_Val_Argmax = np.array([np.argmax(Y_Val[i]) for i in range(0,len(Y_Val))])\n",
    "    diff = np.subtract(Y_Val_Argmax, Validation_T)\n",
    "    non_zeros = np.count_nonzero(diff)\n",
    "    accuracy = ((len(diff) - non_zeros)/len(diff))*100\n",
    "    ValAcc.append(accuracy)\n",
    "\n",
    "#Computation of Testing Accuracy on MNIST Data\n",
    "Y_Test = softmax(np.matmul(Test_X, W_Now.T))\n",
    "Y_SF_MNIST = np.array([np.argmax(Y_Test[i]) for i in range(0,len(Y_Test))]) #Predicted Y for Mnist by Softmax\n",
    "m_diff = np.subtract(Y_SF_MNIST, Test_T)\n",
    "m_non_zeros = np.count_nonzero(m_diff)\n",
    "mnist_accuracy = ((len(m_diff) - m_non_zeros)/len(m_diff))*100\n",
    "\n",
    "#Computation of Testing Accuracy on USPS Data\n",
    "Y_Test = softmax(np.matmul(USPSMat, W_Now.T))\n",
    "Y_SF_USPS = np.array([np.argmax(Y_Test[i]) for i in range(0,len(Y_Test))]) #Predicted Y for USPS by Softmax\n",
    "u_diff = np.subtract(Y_SF_USPS, USPSTar)\n",
    "u_non_zeros = np.count_nonzero(u_diff)\n",
    "usps_accuracy = ((len(u_diff) - u_non_zeros)/len(u_diff))*100\n",
    "\n",
    "print(\"\\n--- %s seconds ---\" % (time.time() - start_time))"
   ]
  },
  {
   "cell_type": "markdown",
   "metadata": {},
   "source": [
    "### Observations"
   ]
  },
  {
   "cell_type": "code",
   "execution_count": 22,
   "metadata": {},
   "outputs": [
    {
     "name": "stdout",
     "output_type": "stream",
     "text": [
      "UBITname      = animeshp\n",
      "Person Number = 50290441\n",
      "----------------------------------------------------\n",
      "Softmax Regression Using Gradient Descent Solution-\n",
      "----------------------------------------------------\n",
      "----------------------------------------------------\n",
      "Regularizer = 2\n",
      "Learning Rate = 0.001\n",
      "Training Accuracy = 91.436%\n",
      "Validation Accuracy = 92.0%\n",
      "\n",
      "MNIST Data Observation Below:\n",
      "Errors: 866  Correct :9134\n",
      "Testing Accuracy = 91.34%\n",
      "\n",
      "MNIST Data Confusion Matrix\n",
      "\n",
      "[[ 947    0    4    3    0   16    6    3    1    0]\n",
      " [   0 1113    5    3    0    5    3    1    5    0]\n",
      " [   5   10  937   16   11    5    9   12   20    7]\n",
      " [   3    1   24  917    0   36    1    9    9   10]\n",
      " [   1    3    6    3  900    2   12    3    6   46]\n",
      " [   7    1    7   29    9  789   12    6   25    7]\n",
      " [  12    2    8    2   12   21  895    4    2    0]\n",
      " [   2    8   26   11    6    2    0  939    0   34]\n",
      " [   7   11   14   41   12   52   10   14  805    8]\n",
      " [  10    5    2   12   38   15    0   29    6  892]]\n",
      "\n",
      "USPS Data Observation Below:\n",
      "Errors: 13219  Correct :6780\n",
      "Testing Accuracy = 33.9017%\n",
      "\n",
      "USPS Data Confusion Matrix\n",
      "\n",
      "[[ 446    3  257   82  161  397   79  131   79  365]\n",
      " [  94  311  232  306  153  173   16  549  121   45]\n",
      " [ 129   13 1266  152   33  219   46   73   36   32]\n",
      " [  55    3  167 1201   10  430    5   63   29   37]\n",
      " [  36   45   46   78  818  250   48  272  203  204]\n",
      " [  73    7  226  155   32 1329   62   68   31   17]\n",
      " [ 171    4  466   96   63  518  589   28   17   48]\n",
      " [ 125   94  309  569   52  243    8  391  123   86]\n",
      " [ 131   22  183  236   85  891  101   64  205   82]\n",
      " [  22   98  143  510  117  151   16  481  238  224]]\n",
      "\n",
      "Supports No Free Lunch Theorem\n"
     ]
    }
   ],
   "source": [
    "print ('UBITname      = animeshp')\n",
    "print ('Person Number = 50290441')\n",
    "print ('----------------------------------------------------')\n",
    "print ('Softmax Regression Using Gradient Descent Solution-')\n",
    "print ('----------------------------------------------------')\n",
    "print ('----------------------------------------------------')\n",
    "print (\"Regularizer = \"+str(la)+\"\\nLearning Rate = \"+str(learningRate))\n",
    "print (\"Training Accuracy = \" + str(np.around(max(TrainAcc),5))+\"%\")\n",
    "print (\"Validation Accuracy = \" + str(np.around(max(ValAcc),5))+\"%\")\n",
    "\n",
    "print(\"\\nMNIST Data Observation Below:\")\n",
    "print(\"Errors: \" + str(m_non_zeros), \" Correct :\" + str(len(m_diff) - m_non_zeros))\n",
    "print (\"Testing Accuracy = \"+str(np.around(mnist_accuracy, 5))+\"%\")\n",
    "Conf_SF_MNIST = confusion_matrix(Test_T, Y_SF_MNIST)\n",
    "print(\"\\nMNIST Data Confusion Matrix\\n\")\n",
    "print(Conf_SF_MNIST)\n",
    "\n",
    "print(\"\\nUSPS Data Observation Below:\")\n",
    "print(\"Errors: \" + str(u_non_zeros), \" Correct :\" + str(len(u_diff) - u_non_zeros))\n",
    "print (\"Testing Accuracy = \"+str(np.around(usps_accuracy, 5))+\"%\")\n",
    "Conf_SF_USPS = confusion_matrix(USPSTar, Y_SF_USPS)\n",
    "print(\"\\nUSPS Data Confusion Matrix\\n\")\n",
    "print(Conf_SF_USPS)\n",
    "print(\"\\nSupports No Free Lunch Theorem\")"
   ]
  },
  {
   "cell_type": "markdown",
   "metadata": {},
   "source": [
    "### Neural Network Implementation using Keras"
   ]
  },
  {
   "cell_type": "code",
   "execution_count": 23,
   "metadata": {},
   "outputs": [
    {
     "name": "stderr",
     "output_type": "stream",
     "text": [
      "Using TensorFlow backend.\n"
     ]
    }
   ],
   "source": [
    "import keras\n",
    "import keras.utils\n",
    "from keras.models import Sequential\n",
    "from keras.layers import Dense, Activation, Dropout\n",
    "from keras.callbacks import EarlyStopping, TensorBoard\n",
    "from keras import utils as np_utils\n",
    "from keras import optimizers\n",
    "\n",
    "input_size = Training_X.shape[1]\n",
    "drop_out = 0.2                                                                                                                                                                                                                                                                                                                                      \n",
    "first_dense_layer_nodes  = 256\n",
    "second_dense_layer_nodes = 64\n",
    "output_layer_nodes = k\n",
    "\n",
    "def get_model():\n",
    "    \n",
    "    model = Sequential()\n",
    "    \n",
    "    model.add(Dense(first_dense_layer_nodes, input_dim=input_size, activation='relu'))   \n",
    "    model.add(Dropout(drop_out))\n",
    "    \n",
    "    model.add(Dense(second_dense_layer_nodes, activation='tanh'))\n",
    "    #model.add(Dropout(drop_out))\n",
    "    \n",
    "    model.add(Dense(output_layer_nodes, activation='softmax'))\n",
    "    \n",
    "    keras.optimizers.rmsprop(lr=0.001, rho=0.9, epsilon=None, decay=0.0)\n",
    "    #sgd = optimizers.SGD(lr=0.01, decay=1e-6, momentum=0.9, nesterov=True)\n",
    "    \n",
    "    model.summary()\n",
    "    \n",
    "    model.compile(optimizer='rmsprop',\n",
    "                  loss='categorical_crossentropy',\n",
    "                  metrics=['accuracy'])\n",
    "    \n",
    "    return model"
   ]
  },
  {
   "cell_type": "code",
   "execution_count": 24,
   "metadata": {},
   "outputs": [
    {
     "name": "stdout",
     "output_type": "stream",
     "text": [
      "_________________________________________________________________\n",
      "Layer (type)                 Output Shape              Param #   \n",
      "=================================================================\n",
      "dense_1 (Dense)              (None, 256)               201216    \n",
      "_________________________________________________________________\n",
      "dropout_1 (Dropout)          (None, 256)               0         \n",
      "_________________________________________________________________\n",
      "dense_2 (Dense)              (None, 64)                16448     \n",
      "_________________________________________________________________\n",
      "dense_3 (Dense)              (None, 10)                650       \n",
      "=================================================================\n",
      "Total params: 218,314\n",
      "Trainable params: 218,314\n",
      "Non-trainable params: 0\n",
      "_________________________________________________________________\n"
     ]
    }
   ],
   "source": [
    "model = get_model()"
   ]
  },
  {
   "cell_type": "markdown",
   "metadata": {},
   "source": [
    "### Run Neural Network Model"
   ]
  },
  {
   "cell_type": "code",
   "execution_count": 25,
   "metadata": {},
   "outputs": [
    {
     "name": "stdout",
     "output_type": "stream",
     "text": [
      "Train on 48000 samples, validate on 12000 samples\n",
      "Epoch 1/10000\n",
      "48000/48000 [==============================] - 4s 92us/step - loss: 0.3143 - acc: 0.9081 - val_loss: 0.1499 - val_acc: 0.9552\n",
      "Epoch 2/10000\n",
      "48000/48000 [==============================] - 4s 77us/step - loss: 0.1339 - acc: 0.9589 - val_loss: 0.1079 - val_acc: 0.9668\n",
      "Epoch 3/10000\n",
      "48000/48000 [==============================] - 4s 94us/step - loss: 0.0928 - acc: 0.9718 - val_loss: 0.0870 - val_acc: 0.9736\n",
      "Epoch 4/10000\n",
      "48000/48000 [==============================] - 5s 110us/step - loss: 0.0722 - acc: 0.9774 - val_loss: 0.0869 - val_acc: 0.9741\n",
      "Epoch 5/10000\n",
      "48000/48000 [==============================] - 5s 106us/step - loss: 0.0624 - acc: 0.9811 - val_loss: 0.0752 - val_acc: 0.9775\n",
      "Epoch 6/10000\n",
      "48000/48000 [==============================] - 5s 104us/step - loss: 0.0514 - acc: 0.9840 - val_loss: 0.0778 - val_acc: 0.9773\n",
      "Epoch 7/10000\n",
      "48000/48000 [==============================] - 4s 82us/step - loss: 0.0439 - acc: 0.9862 - val_loss: 0.0728 - val_acc: 0.9778\n",
      "Epoch 8/10000\n",
      "48000/48000 [==============================] - 5s 96us/step - loss: 0.0387 - acc: 0.9875 - val_loss: 0.0729 - val_acc: 0.9799\n",
      "Epoch 9/10000\n",
      "48000/48000 [==============================] - 6s 131us/step - loss: 0.0335 - acc: 0.9895 - val_loss: 0.0720 - val_acc: 0.9807\n",
      "Epoch 10/10000\n",
      "48000/48000 [==============================] - 5s 103us/step - loss: 0.0296 - acc: 0.9901 - val_loss: 0.0749 - val_acc: 0.9802\n",
      "Epoch 11/10000\n",
      "48000/48000 [==============================] - 5s 112us/step - loss: 0.0267 - acc: 0.9916 - val_loss: 0.0786 - val_acc: 0.9801\n",
      "Epoch 12/10000\n",
      "48000/48000 [==============================] - 5s 104us/step - loss: 0.0229 - acc: 0.9925 - val_loss: 0.0760 - val_acc: 0.9815\n",
      "Epoch 13/10000\n",
      "48000/48000 [==============================] - 7s 150us/step - loss: 0.0219 - acc: 0.9924 - val_loss: 0.0771 - val_acc: 0.9807\n",
      "Epoch 14/10000\n",
      "48000/48000 [==============================] - 6s 129us/step - loss: 0.0204 - acc: 0.9932 - val_loss: 0.0719 - val_acc: 0.9812\n",
      "Epoch 15/10000\n",
      "48000/48000 [==============================] - 5s 102us/step - loss: 0.0186 - acc: 0.9939 - val_loss: 0.0790 - val_acc: 0.9809\n",
      "Epoch 16/10000\n",
      "48000/48000 [==============================] - 5s 112us/step - loss: 0.0171 - acc: 0.9946 - val_loss: 0.0806 - val_acc: 0.9804\n",
      "Epoch 17/10000\n",
      "48000/48000 [==============================] - 4s 92us/step - loss: 0.0158 - acc: 0.9946 - val_loss: 0.0809 - val_acc: 0.9811\n",
      "Epoch 18/10000\n",
      "48000/48000 [==============================] - 4s 90us/step - loss: 0.0145 - acc: 0.9956 - val_loss: 0.0814 - val_acc: 0.9818\n",
      "Epoch 19/10000\n",
      "48000/48000 [==============================] - 6s 128us/step - loss: 0.0142 - acc: 0.9956 - val_loss: 0.0829 - val_acc: 0.9802\n",
      "Epoch 20/10000\n",
      "48000/48000 [==============================] - 5s 112us/step - loss: 0.0135 - acc: 0.9953 - val_loss: 0.0830 - val_acc: 0.9817\n",
      "Epoch 21/10000\n",
      "48000/48000 [==============================] - 5s 110us/step - loss: 0.0121 - acc: 0.9962 - val_loss: 0.0893 - val_acc: 0.9810\n",
      "Epoch 22/10000\n",
      "48000/48000 [==============================] - 8s 160us/step - loss: 0.0106 - acc: 0.9965 - val_loss: 0.0861 - val_acc: 0.9817\n",
      "Epoch 23/10000\n",
      "48000/48000 [==============================] - 6s 123us/step - loss: 0.0129 - acc: 0.9958 - val_loss: 0.0888 - val_acc: 0.9832\n",
      "Epoch 24/10000\n",
      "48000/48000 [==============================] - 5s 106us/step - loss: 0.0097 - acc: 0.9965 - val_loss: 0.0896 - val_acc: 0.9812\n",
      "Epoch 00024: early stopping\n"
     ]
    }
   ],
   "source": [
    "validation_data_split = 0.20 # 20% of the training data is reserved as Validation Dataset.\n",
    "num_epochs = 10000 # One complete learning of the training data is called an Epoch. \n",
    "model_batch_size = 128 # Number of data samples in each batch\n",
    "tb_batch_size = 32 \n",
    "early_patience = 10 #Number of epochs with no improvement after which training is stopped. Here Gradient descent is used to \n",
    "# determine the point of local minima where the derivative of the plot equalls zero.  \n",
    "\n",
    "tensorboard_cb   = TensorBoard(log_dir='logs', batch_size= tb_batch_size, write_graph= True)\n",
    "earlystopping_cb = EarlyStopping(monitor='val_loss', verbose=1, patience=early_patience, mode='min')\n",
    "\n",
    "concatenated_data = np.concatenate((Training_X, Validation_X), axis=0)\n",
    "concatenated_targets = np.concatenate((H_Training_T, H_Validation_T), axis=0)\n",
    "\n",
    "#concatenated_targets = np_utils.to_categorical(np.array(concatenated_targets),2)\n",
    "# Process Dataset \n",
    "history = model.fit(concatenated_data\n",
    "                    , concatenated_targets                         # Training occurs here\n",
    "                    , validation_split=validation_data_split\n",
    "                    , epochs=num_epochs\n",
    "                    , batch_size=model_batch_size\n",
    "                    , callbacks = [tensorboard_cb, earlystopping_cb]\n",
    "                   )"
   ]
  },
  {
   "cell_type": "code",
   "execution_count": 26,
   "metadata": {},
   "outputs": [
    {
     "data": {
      "text/plain": [
       "array([<matplotlib.axes._subplots.AxesSubplot object at 0x7f0e4060c198>,\n",
       "       <matplotlib.axes._subplots.AxesSubplot object at 0x7f0e405f0668>,\n",
       "       <matplotlib.axes._subplots.AxesSubplot object at 0x7f0e40592780>,\n",
       "       <matplotlib.axes._subplots.AxesSubplot object at 0x7f0e405af898>],\n",
       "      dtype=object)"
      ]
     },
     "execution_count": 26,
     "metadata": {},
     "output_type": "execute_result"
    },
    {
     "data": {
      "image/png": "[encoded data removed]",
      "text/plain": [
       "<Figure size 720x1080 with 4 Axes>"
      ]
     },
     "metadata": {
      "needs_background": "light"
     },
     "output_type": "display_data"
    }
   ],
   "source": [
    "%matplotlib inline\n",
    "df = pd.DataFrame(history.history)\n",
    "df.plot(subplots=True, grid=True, figsize=(10,15))"
   ]
  },
  {
   "cell_type": "code",
   "execution_count": 27,
   "metadata": {},
   "outputs": [
    {
     "name": "stdout",
     "output_type": "stream",
     "text": [
      "-----Observations on MNIST Data-----\n",
      "Errors: 180  Correct :9820\n",
      "MNIST Data Testing Accuracy: 98.2\n",
      "\n",
      "MNIST Data Confusion Matrix\n",
      "\n",
      "[[ 972    1    0    0    0    1    3    1    1    1]\n",
      " [   0 1126    2    1    0    1    1    0    4    0]\n",
      " [   5    1 1009    2    2    0    3    5    5    0]\n",
      " [   0    1    2  991    0    6    0    3    5    2]\n",
      " [   1    1    2    1  965    0    4    2    1    5]\n",
      " [   2    0    0    3    1  875    6    2    2    1]\n",
      " [   1    2    0    1    5    2  944    0    3    0]\n",
      " [   0    6    8    5    1    0    0  998    5    5]\n",
      " [   2    0    2    2    3    2    1    1  957    4]\n",
      " [   1    3    0    1   15    3    0    1    2  983]]\n",
      "\n",
      "-----Observations on USPS Data-----\n",
      "Errors: 11547  Correct :18452\n",
      "USPS Data Testing Accuracy: 61.50872\n",
      "\n",
      "USPS Data Confusion Matrix\n",
      "\n",
      "[[ 549    3  224   28  168  150  437  122   99  220]\n",
      " [  27  404  533   86  475   74   31  113  157  100]\n",
      " [  58   12 1549   39   25   82  140   39   51    4]\n",
      " [  27    6  460 1091   11  284   46   15   38   22]\n",
      " [  19   62  141   19 1182   76   70  181  220   30]\n",
      " [  49    5  423   55    4 1190  190   22   58    4]\n",
      " [  50   13  454    6   44   80 1174  145   11   23]\n",
      " [  30  163  269  428   61   44   50  698  231   26]\n",
      " [ 100   26  219  235   68  203  367  162  606   14]\n",
      " [  18   74  176  205  211   21   51  669  386  189]]\n",
      "\n",
      "Supports No Free Lunch Theorem\n"
     ]
    }
   ],
   "source": [
    "wrong   = 0\n",
    "right   = 0\n",
    "Y_KNN_MNIST = []\n",
    "Y_KNN_USPS = []\n",
    "\n",
    "#TestDataAct = np_utils.to_categorical(np.array(TestDataAct),2)\n",
    "\n",
    "print(\"-----Observations on MNIST Data-----\")\n",
    "\n",
    "for i,j in zip(Test_X, H_Test_T):\n",
    "    y = model.predict(np.array(i).reshape(-1,Test_X.shape[1])) # Here the model predicts classes of the test data.\n",
    "    Y_KNN_MNIST.append(y.argmax())\n",
    "    if j.argmax() == y.argmax():\n",
    "        right = right + 1 # Count Matches between predicted and processed values (Software 1.0 and 2.0) \n",
    "    else:\n",
    "        wrong = wrong + 1 # Count Mismatches\n",
    "\n",
    "\n",
    "print(\"Errors: \" + str(wrong), \" Correct :\" + str(right))\n",
    "\n",
    "print(\"MNIST Data Testing Accuracy: \" + str(np.around(right/(right+wrong)*100, 5)))\n",
    "Conf_KNN_MNIST = confusion_matrix(Test_T, Y_KNN_MNIST)\n",
    "print(\"\\nMNIST Data Confusion Matrix\\n\")\n",
    "print(Conf_KNN_MNIST)\n",
    "\n",
    "print(\"\\n-----Observations on USPS Data-----\")\n",
    "\n",
    "for i,j in zip(USPSMat, H_USPSTar):\n",
    "    y = model.predict(np.array(i).reshape(-1,USPSMat.shape[1])) # Here the model predicts classes of the test data.\n",
    "    Y_KNN_USPS.append(y.argmax())\n",
    "    if j.argmax() == y.argmax():\n",
    "        right = right + 1 # Count Matches between predicted and processed values (Software 1.0 and 2.0) \n",
    "    else:\n",
    "        wrong = wrong + 1 # Count Mismatches\n",
    "\n",
    "print(\"Errors: \" + str(wrong), \" Correct :\" + str(right))\n",
    "\n",
    "print(\"USPS Data Testing Accuracy: \" + str(np.around(right/(right+wrong)*100, 5)))\n",
    "Conf_KNN_USPS = confusion_matrix(USPSTar, Y_KNN_USPS)\n",
    "print(\"\\nUSPS Data Confusion Matrix\\n\")\n",
    "print(Conf_KNN_USPS)\n",
    "print(\"\\nSupports No Free Lunch Theorem\")"
   ]
  },
  {
   "cell_type": "markdown",
   "metadata": {},
   "source": [
    "### Neural Network Implementation using Scikit Learns  "
   ]
  },
  {
   "cell_type": "code",
   "execution_count": 28,
   "metadata": {},
   "outputs": [
    {
     "name": "stdout",
     "output_type": "stream",
     "text": [
      "\n",
      "Accuracy on MNIST Data = 97.86%\n",
      "\n",
      "MNIST Data Confusion Matrix\n",
      "\n",
      "[[ 970    1    0    1    1    1    3    1    2    0]\n",
      " [   0 1128    2    0    0    1    2    1    1    0]\n",
      " [   3    2 1010    0    3    1    2    6    5    0]\n",
      " [   0    0    5  986    0    7    0    4    5    3]\n",
      " [   0    0    6    2  956    0    2    1    2   13]\n",
      " [   1    0    0    9    1  867    6    1    5    2]\n",
      " [   4    2    2    1    4    4  941    0    0    0]\n",
      " [   1    6    5    3    0    0    0 1001    4    8]\n",
      " [   2    1    1    7    6    2    1    5  945    4]\n",
      " [   3    2    1    6    8    2    0    3    2  982]]\n",
      "\n",
      "Accuracy on USPS Data = 42.497%\n",
      "\n",
      "USPS Data Confusion Matrix\n",
      "\n",
      "[[ 446    8  160   89  160  158  271  177  154  377]\n",
      " [  25  191  304  297  120   86   31  129  590  227]\n",
      " [  26   24 1319  148   19  109  114   40  181   19]\n",
      " [  11   14  145 1425    0  216   16   22  125   26]\n",
      " [   4   65   69   58  946   69   41  183  420  145]\n",
      " [  32    7  155  155    7 1284   92   27  228   13]\n",
      " [  81   19  301   43   45  228 1017   42   98  126]\n",
      " [  14   54   75  420   36   28   12  549  741   71]\n",
      " [  61   19   70  321   93  193  148   93  922   80]\n",
      " [   5   71   86  408   75   41   17  404  493  400]]\n",
      "\n",
      "Supports No Free Lunch Theorem\n",
      "\n",
      "--- 304.3059968948364 seconds ---\n"
     ]
    }
   ],
   "source": [
    "start_time = time.time()\n",
    "scaler = StandardScaler()\n",
    "\n",
    "#scaler.fit(Training_X)\n",
    "Train_X = scaler.fit_transform(Training_X)\n",
    "Tst_X = scaler.fit_transform(Test_X)\n",
    "USPS_X = scaler.fit_transform(USPSMat)\n",
    "\n",
    "model_NN = MLPClassifier(hidden_layer_sizes= (256, 64), max_iter=1000)\n",
    "model_NN.fit(Train_X, Training_T.ravel())\n",
    "\n",
    "Y_SNN_MNIST = model_NN.predict(Tst_X)\n",
    "Conf_SNN_MNIST = confusion_matrix(Test_T, Y_SNN_MNIST)\n",
    "\n",
    "Y_SNN_USPS = model_NN.predict(USPS_X)\n",
    "Conf_SNN_USPS = confusion_matrix(USPSTar, Y_SNN_USPS)\n",
    "\n",
    "print(\"\\nAccuracy on MNIST Data = \"+ str(np.around(accuracy_score(Test_T, Y_SNN_MNIST)*100, 3))+\"%\")\n",
    "print(\"\\nMNIST Data Confusion Matrix\\n\")\n",
    "print(Conf_SNN_MNIST)\n",
    "print(\"\\nAccuracy on USPS Data = \"+ str(np.around(accuracy_score(USPSTar, Y_SNN_USPS)*100, 3))+\"%\")\n",
    "print(\"\\nUSPS Data Confusion Matrix\\n\")\n",
    "print(Conf_SNN_USPS)\n",
    "print(\"\\nSupports No Free Lunch Theorem\")\n",
    "\n",
    "print(\"\\n--- %s seconds ---\" % (time.time() - start_time))"
   ]
  },
  {
   "cell_type": "markdown",
   "metadata": {},
   "source": [
    "### SVM Implementation using Linear Kernel"
   ]
  },
  {
   "cell_type": "code",
   "execution_count": 29,
   "metadata": {},
   "outputs": [
    {
     "name": "stdout",
     "output_type": "stream",
     "text": [
      "\n",
      "Accuracy on Linear Kernel on MNIST Data = 93.9%\n",
      "\n",
      "MNIST Data Confusion Matrix\n",
      "\n",
      "[[ 959    0    5    2    2    4    7    0    1    0]\n",
      " [   0 1121    3    3    0    1    2    1    4    0]\n",
      " [   6    8  968    9    3    2   11   10   13    2]\n",
      " [   5    2   17  944    4   13    1    8   13    3]\n",
      " [   2    1   10    1  943    0    4    2    2   17]\n",
      " [  13    4    2   39    5  792    9    1   22    5]\n",
      " [  10    3   11    1    5   14  911    2    1    0]\n",
      " [   1    8   20   10    6    1    0  961    3   18]\n",
      " [   8    4    9   25   11   27    6    5  871    8]\n",
      " [   7    6    2   13   32    4    0   18    7  920]]\n",
      "\n",
      "Accuracy on Linear Kernel on USPS Data = 29.126%\n",
      "\n",
      "USPS Data Confusion Matrix\n",
      "\n",
      "[[ 348    0  476  152  222  345   74  172   10  201]\n",
      " [  60  303  534  275  230  172   17  351   37   21]\n",
      " [ 139   63 1293  115   33  221   55   45   21   14]\n",
      " [  56   58  341  898    8  520    9   45   48   17]\n",
      " [  24   24  221   82  800  215   10  464   82   78]\n",
      " [  47   25  652  240   41  876   30   35   41   13]\n",
      " [ 146   19  903   55   86  264  462   38    2   25]\n",
      " [  19   74  201  706   54  294   12  522   84   34]\n",
      " [ 100   16  298  449  126  692   82   58  160   19]\n",
      " [  18   38  204  588  142  104    8  580  155  163]]\n",
      "\n",
      "Supports No Free Lunch Theorem\n",
      "\n",
      "--- 951.5209729671478 seconds ---\n"
     ]
    }
   ],
   "source": [
    "start_time = time.time()\n",
    "\n",
    "#Linear Kernel with all other Parameters kept Default\n",
    "model_SVM1 = SVC(kernel='linear')\n",
    "model_SVM1.fit(Training_X, Training_T)\n",
    "\n",
    "Y_LSVM_MNIST = model_SVM1.predict(Test_X)\n",
    "Conf_LSVM_MNIST = confusion_matrix(Test_T, Y_LSVM_MNIST)\n",
    "\n",
    "Y_LSVM_USPS = model_SVM1.predict(USPSMat)\n",
    "Conf_LSVM_USPS = confusion_matrix(USPSTar, Y_LSVM_USPS)\n",
    "\n",
    "print(\"\\nAccuracy on Linear Kernel on MNIST Data = \"+ str(np.around(accuracy_score(Test_T, Y_LSVM_MNIST)*100, 3))+\"%\")\n",
    "print(\"\\nMNIST Data Confusion Matrix\\n\")\n",
    "print(Conf_LSVM_MNIST)\n",
    "print(\"\\nAccuracy on Linear Kernel on USPS Data = \"+ str(np.around(accuracy_score(USPSTar, Y_LSVM_USPS)*100, 3))+\"%\")\n",
    "print(\"\\nUSPS Data Confusion Matrix\\n\")\n",
    "print(Conf_LSVM_USPS)\n",
    "print(\"\\nSupports No Free Lunch Theorem\")\n",
    "\n",
    "print(\"\\n--- %s seconds ---\" % (time.time() - start_time))"
   ]
  },
  {
   "cell_type": "markdown",
   "metadata": {},
   "source": [
    "### SVM Implementation using RBF Kernel"
   ]
  },
  {
   "cell_type": "code",
   "execution_count": 30,
   "metadata": {},
   "outputs": [
    {
     "name": "stdout",
     "output_type": "stream",
     "text": [
      "\n",
      "Accuracy on RBF Kernel on MNIST Data = 94.35%\n",
      "\n",
      "MNIST Data Confusion Matrix\n",
      "\n",
      "[[ 967    0    1    0    0    5    4    1    2    0]\n",
      " [   0 1120    2    3    0    1    3    1    5    0]\n",
      " [   9    1  962    7   10    1   13   11   16    2]\n",
      " [   1    1   14  950    1   17    1   10   11    4]\n",
      " [   1    1    7    0  937    0    7    2    2   25]\n",
      " [   7    4    5   33    7  808   11    2   10    5]\n",
      " [  10    3    4    1    5   10  924    0    1    0]\n",
      " [   2   13   22    5    7    1    0  954    4   20]\n",
      " [   4    6    6   14    8   24   10    8  891    3]\n",
      " [  10    6    0   12   33    5    1   14    6  922]]\n",
      "\n",
      "Accuracy on RBF Kernel on USPS Data = 38.532%\n",
      "\n",
      "USPS Data Confusion Matrix\n",
      "\n",
      "[[ 573    2  428   19  285  248   73   44    6  322]\n",
      " [ 110  429  285  137  273  180   46  501   22   17]\n",
      " [ 128   18 1401   59   39  198   62   57   23   14]\n",
      " [  76    3  185 1123   11  483    5   71   27   16]\n",
      " [  18   67   91   13 1167  267   22  194   69   92]\n",
      " [ 108   17  257  102   25 1366   60   43   16    6]\n",
      " [ 197    7  489   24   98  394  748   13    7   23]\n",
      " [  50  225  457  265   57  416   15  452   41   22]\n",
      " [  73   25  210  193   87 1005   95   41  244   27]\n",
      " [  26  166  227  278  213  165    8  500  214  203]]\n",
      "\n",
      "Supports No Free Lunch Theorem\n",
      "\n",
      "--- 1735.7116084098816 seconds ---\n"
     ]
    }
   ],
   "source": [
    "#RBF Kernel with all other Parameters kept Default\n",
    "start_time = time.time()\n",
    "\n",
    "model_SVM3 = SVC(kernel='rbf', gamma='auto')\n",
    "model_SVM3.fit(Training_X, Training_T)\n",
    "\n",
    "Y_RSVM_MNIST = model_SVM3.predict(Test_X)\n",
    "Conf_RSVM_MNIST = confusion_matrix(Test_T, Y_RSVM_MNIST)\n",
    "\n",
    "Y_RSVM_USPS = model_SVM3.predict(USPSMat)\n",
    "Conf_RSVM_USPS = confusion_matrix(USPSTar, Y_RSVM_USPS)\n",
    "\n",
    "print(\"\\nAccuracy on RBF Kernel on MNIST Data = \"+ str(np.around(accuracy_score(Test_T, Y_RSVM_MNIST)*100, 3))+\"%\")\n",
    "print(\"\\nMNIST Data Confusion Matrix\\n\")\n",
    "print(Conf_RSVM_MNIST)\n",
    "print(\"\\nAccuracy on RBF Kernel on USPS Data = \"+ str(np.around(accuracy_score(USPSTar, Y_RSVM_USPS)*100, 3))+\"%\")\n",
    "print(\"\\nUSPS Data Confusion Matrix\\n\")\n",
    "print(Conf_RSVM_USPS)\n",
    "print(\"\\nSupports No Free Lunch Theorem\")\n",
    "\n",
    "print(\"\\n--- %s seconds ---\" % (time.time() - start_time))"
   ]
  },
  {
   "cell_type": "markdown",
   "metadata": {},
   "source": [
    "### Implementation of Random Forest Classifier"
   ]
  },
  {
   "cell_type": "code",
   "execution_count": 55,
   "metadata": {},
   "outputs": [
    {
     "name": "stdout",
     "output_type": "stream",
     "text": [
      "\n",
      "Accuracy on MNIST Data = 96.82%\n",
      "\n",
      "MNIST Data Confusion Matrix\n",
      "\n",
      "[[ 970    0    0    1    0    4    2    1    2    0]\n",
      " [   0 1122    3    3    0    2    2    1    2    0]\n",
      " [   5    0 1002    4    2    0    4    9    5    1]\n",
      " [   1    0   10  972    0    8    0    9    8    2]\n",
      " [   2    0    2    0  953    0    6    1    2   16]\n",
      " [   2    1    0   13    1  858    7    2    5    3]\n",
      " [   6    3    0    0    4    3  937    0    5    0]\n",
      " [   1    5   20    1    1    0    0  988    2   10]\n",
      " [   4    0    5    9    6    6    6    4  925    9]\n",
      " [   6    5    1   12   13    2    1    5    9  955]]\n",
      "\n",
      "Accuracy on USPS Data = 38.867%\n",
      "\n",
      "USPS Data Confusion Matrix\n",
      "\n",
      "[[ 626   10  254   60  428  140   81  123    4  274]\n",
      " [  48  549  120  123   65   78   29  974   14    0]\n",
      " [ 120   36 1197   95   52  190   31  270    5    3]\n",
      " [  46   10  103 1305   47  305    1  160    4   19]\n",
      " [  11  208   54   32 1038  169   19  415   30   24]\n",
      " [ 153   23  159  128   24 1344   43  110    6   10]\n",
      " [ 331   50  222   34   95  344  773  136    4   11]\n",
      " [  40  312  369  324   33  193   33  684    3    9]\n",
      " [  51   43  173  227  124 1012   84  108  159   19]\n",
      " [  21  274  239  319  225  123   14  620   67   98]]\n",
      "\n",
      "Supports No Free Lunch Theorem\n",
      "\n",
      "--- 72.28828978538513 seconds ---\n"
     ]
    }
   ],
   "source": [
    "start_time = time.time()\n",
    "\n",
    "model_RF = RandomForestClassifier(n_estimators = 100)\n",
    "model_RF.fit(Training_X, Training_T)\n",
    "\n",
    "Y_RF_MINST = model_RF.predict(Test_X)\n",
    "Conf_RF_MNIST = confusion_matrix(Test_T, Y_RF_MINST)\n",
    "\n",
    "Y_RF_USPS = model_RF.predict(USPSMat)\n",
    "Conf_RF_USPS = confusion_matrix(USPSTar, Y_RF_USPS)\n",
    "\n",
    "print(\"\\nAccuracy on MNIST Data = \"+ str(np.around(accuracy_score(Test_T, Y_RF_MINST)*100, 3))+\"%\")\n",
    "print(\"\\nMNIST Data Confusion Matrix\\n\")\n",
    "print(Conf_RF_MNIST)\n",
    "print(\"\\nAccuracy on USPS Data = \"+ str(np.around(accuracy_score(USPSTar, Y_RF_USPS)*100, 3))+\"%\")\n",
    "print(\"\\nUSPS Data Confusion Matrix\\n\")\n",
    "print(Conf_RF_USPS)\n",
    "print(\"\\nSupports No Free Lunch Theorem\")\n",
    "print(\"\\n--- %s seconds ---\" % (time.time() - start_time))"
   ]
  },
  {
   "cell_type": "code",
   "execution_count": 59,
   "metadata": {},
   "outputs": [
    {
     "data": {
      "text/plain": [
       "Text(0.5, 0, 'Number of Decision Trees')"
      ]
     },
     "execution_count": 59,
     "metadata": {},
     "output_type": "execute_result"
    },
    {
     "data": {
      "image/png": "[encoded data removed]",
      "text/plain": [
       "<Figure size 432x288 with 1 Axes>"
      ]
     },
     "metadata": {
      "needs_background": "light"
     },
     "output_type": "display_data"
    }
   ],
   "source": [
    "%matplotlib inline\n",
    "l = [94.71, 95.74, 96.45, 96.63, 96.81, 96.82]\n",
    "a = ['n=10','n=20','n=40','n=60','n=80','n=100']\n",
    "plt.plot(a,l)\n",
    "plt.ylabel('% Accuracy on MNIST data')\n",
    "plt.xlabel('Number of Decision Trees')"
   ]
  },
  {
   "cell_type": "code",
   "execution_count": 60,
   "metadata": {},
   "outputs": [
    {
     "data": {
      "text/plain": [
       "Text(0.5, 0, 'Number of Decision Trees')"
      ]
     },
     "execution_count": 60,
     "metadata": {},
     "output_type": "execute_result"
    },
    {
     "data": {
      "image/png": "[encoded data removed]",
      "text/plain": [
       "<Figure size 432x288 with 1 Axes>"
      ]
     },
     "metadata": {
      "needs_background": "light"
     },
     "output_type": "display_data"
    }
   ],
   "source": [
    "%matplotlib inline\n",
    "l = [31.26, 34.46, 37.17, 38.24, 38.73, 38.86]\n",
    "a = ['n=10','n=20','n=40','n=60','n=80','n=100']\n",
    "plt.plot(a,l)\n",
    "plt.ylabel('% Accuracy on USPS data')\n",
    "plt.xlabel('Number of Decision Trees')"
   ]
  },
  {
   "cell_type": "markdown",
   "metadata": {},
   "source": [
    "### Mini Batch Stochastic Gradient Descent"
   ]
  },
  {
   "cell_type": "code",
   "execution_count": 44,
   "metadata": {},
   "outputs": [
    {
     "name": "stdout",
     "output_type": "stream",
     "text": [
      "\n",
      "--- 321.53772735595703 seconds ---\n"
     ]
    }
   ],
   "source": [
    "start_time = time.time()\n",
    "\n",
    "#Initialize weight vector\n",
    "#W_Now = np.random.rand(k,m)\n",
    "W_Now = np.zeros((k,m))\n",
    "W_Now = np.insert(W_Now, 0, 0.1, axis=1) #0.1 is bias weight term\n",
    "learningRate = 0.001\n",
    "la = 2\n",
    "c = 10 #Number of Chunks.\n",
    "TrainAcc = []\n",
    "ValAcc = []\n",
    "data_partitions = np.zeros(c)\n",
    "target_partitions = np.zeros(c)\n",
    "\n",
    "Training_data = np.concatenate((Training_X, H_Training_T), axis=1)\n",
    "\n",
    "for i in range(0,7): #Num of Epochs\n",
    "    np.random.shuffle(Training_data) #Shuffle Training Dataset Rowwise\n",
    "    data = Training_data[:,:int(m+1)] #Slice Data only\n",
    "    target = Training_data[:,int(m+1):int(m+1+k)] #Slice Targets only\n",
    "    data_partitions = np.split(data, c) #Split data into 20 chunks\n",
    "    target_partitions = np.split(target, c) #Split targets into corresponding c chunks\n",
    "    \n",
    "    for j in range(0,c): #Num of Chunks\n",
    "        #print(\"Epoch= \"+str(i+1)+\" Chunk= \"+str(j+1))\n",
    "        #print(\"Loss for \" +str(i+1)+\" Epoch and \"+str(j+1)+\" Chunk: \" +str(cost(W_Now.T, Training_X, H_Training_T)))\n",
    "        delta_W = gradient(W_Now.T, data_partitions[j], target_partitions[j]) # KxM Matrix returned\n",
    "        W_Next = W_Now - (np.dot(learningRate, delta_W))\n",
    "        W_Now = W_Next\n",
    "\n",
    "        Y_Train = softmax(np.matmul(Training_X, W_Now.T))\n",
    "        Y_Train_Argmax = np.array([np.argmax(Y_Train[i]) for i in range(0,len(Y_Train))])\n",
    "        diff = np.subtract(Y_Train_Argmax, Training_T)\n",
    "        non_zeros = np.count_nonzero(diff)\n",
    "        accuracy = ((len(diff) - non_zeros)/len(diff))*100\n",
    "        TrainAcc.append(accuracy)\n",
    "\n",
    "        Y_Val = softmax(np.matmul(Validation_X, W_Now.T))\n",
    "        Y_Val_Argmax = np.array([np.argmax(Y_Val[i]) for i in range(0,len(Y_Val))])\n",
    "        diff = np.subtract(Y_Val_Argmax, Validation_T)\n",
    "        non_zeros = np.count_nonzero(diff)\n",
    "        accuracy = ((len(diff) - non_zeros)/len(diff))*100\n",
    "        ValAcc.append(accuracy)\n",
    "\n",
    "#Computation of Testing Accuracy on MNIST Data\n",
    "Y_Test = softmax(np.matmul(Test_X, W_Now.T))\n",
    "Y_MSF_MNIST = np.array([np.argmax(Y_Test[i]) for i in range(0,len(Y_Test))]) #Predicted Y for Mnist by Softmax\n",
    "m_diff = np.subtract(Y_MSF_MNIST, Test_T)\n",
    "m_non_zeros = np.count_nonzero(m_diff)\n",
    "mnist_accuracy = ((len(m_diff) - m_non_zeros)/len(m_diff))*100\n",
    "\n",
    "#Computation of Testing Accuracy on USPS Data\n",
    "Y_Test = softmax(np.matmul(USPSMat, W_Now.T))\n",
    "Y_MSF_USPS = np.array([np.argmax(Y_Test[i]) for i in range(0,len(Y_Test))]) #Predicted Y for USPS by Softmax\n",
    "u_diff = np.subtract(Y_MSF_USPS, USPSTar)\n",
    "u_non_zeros = np.count_nonzero(u_diff)\n",
    "usps_accuracy = ((len(u_diff) - u_non_zeros)/len(u_diff))*100\n",
    "\n",
    "print(\"\\n--- %s seconds ---\" % (time.time() - start_time))"
   ]
  },
  {
   "cell_type": "markdown",
   "metadata": {},
   "source": [
    "### Results"
   ]
  },
  {
   "cell_type": "code",
   "execution_count": 45,
   "metadata": {},
   "outputs": [
    {
     "name": "stdout",
     "output_type": "stream",
     "text": [
      "UBITname      = animeshp\n",
      "Person Number = 50290441\n",
      "----------------------------------------------------\n",
      "Softmax Regression Using Gradient Descent Solution-\n",
      "----------------------------------------------------\n",
      "----------------------------------------------------\n",
      "Regularizer = 2\n",
      "Learning Rate = 0.001\n",
      "Training Accuracy = 89.642%\n",
      "Validation Accuracy = 90.78%\n",
      "\n",
      "MNIST Data Observation Below:\n",
      "Errors: 957  Correct :9043\n",
      "Testing Accuracy = 90.43%\n",
      "\n",
      "MNIST Data Confusion Matrix\n",
      "\n",
      "[[ 936    0    7    4    0   20   10    2    1    0]\n",
      " [   0 1108    5    4    0    4    4    1    9    0]\n",
      " [   7    4  927   14   11    3   11   18   29    8]\n",
      " [   3    0   22  909    0   47    3   10    6   10]\n",
      " [   2    3    7    2  887    1   21    3    8   48]\n",
      " [   7    2   12   31    6  785   13    6   20   10]\n",
      " [  13    3    9    3   11   22  895    1    1    0]\n",
      " [   3   10   32    8    7    0    1  927    1   39]\n",
      " [   7   10   18   58   10   45   17   20  778   11]\n",
      " [  11    6   11   16   31   16    0   25    2  891]]\n",
      "\n",
      "USPS Data Observation Below:\n",
      "Errors: 13120  Correct :6879\n",
      "Testing Accuracy = 34.39672%\n",
      "\n",
      "USPS Data Confusion Matrix\n",
      "\n",
      "[[ 472    3  361   77  185  264   89   84  116  349]\n",
      " [ 140  306  168  415  202  120   20  380  227   22]\n",
      " [ 139   13 1276  175   43  128   61   88   49   27]\n",
      " [  55    1  159 1297   12  320   10   59   40   47]\n",
      " [  38   92   50   94  897  182   52  163  250  182]\n",
      " [  87   10  250  151   35 1240   88   75   39   25]\n",
      " [ 191   12  414  105   79  470  636   25   32   36]\n",
      " [ 131  151  379  504   66  175   19  322  194   59]\n",
      " [ 136   29  207  233  102  785  111   55  258   84]\n",
      " [  26  149  164  554  129  121   19  408  255  175]]\n",
      "\n",
      "Supports No Free Lunch Theorem\n"
     ]
    }
   ],
   "source": [
    "print ('UBITname      = animeshp')\n",
    "print ('Person Number = 50290441')\n",
    "print ('----------------------------------------------------')\n",
    "print ('Softmax Regression Using Mini Batch Gradient Descent Solution-')\n",
    "print ('----------------------------------------------------')\n",
    "print ('----------------------------------------------------')\n",
    "print (\"Regularizer = \"+str(la)+\"\\nLearning Rate = \"+str(learningRate))\n",
    "print (\"Training Accuracy = \" + str(np.around(max(TrainAcc),5))+\"%\")\n",
    "print (\"Validation Accuracy = \" + str(np.around(max(ValAcc),5))+\"%\")\n",
    "\n",
    "print(\"\\nMNIST Data Observation Below:\")\n",
    "print(\"Errors: \" + str(m_non_zeros), \" Correct :\" + str(len(m_diff) - m_non_zeros))\n",
    "print (\"Testing Accuracy = \"+str(np.around(mnist_accuracy, 5))+\"%\")\n",
    "Conf_MSF_MNIST = confusion_matrix(Test_T, Y_MSF_MNIST)\n",
    "print(\"\\nMNIST Data Confusion Matrix\\n\")\n",
    "print(Conf_MSF_MNIST)\n",
    "\n",
    "print(\"\\nUSPS Data Observation Below:\")\n",
    "print(\"Errors: \" + str(u_non_zeros), \" Correct :\" + str(len(u_diff) - u_non_zeros))\n",
    "print (\"Testing Accuracy = \"+str(np.around(usps_accuracy, 5))+\"%\")\n",
    "Conf_MSF_USPS = confusion_matrix(USPSTar, Y_MSF_USPS)\n",
    "print(\"\\nUSPS Data Confusion Matrix\\n\")\n",
    "print(Conf_MSF_USPS)\n",
    "print(\"\\nSupports No Free Lunch Theorem\")"
   ]
  },
  {
   "cell_type": "code",
   "execution_count": 50,
   "metadata": {},
   "outputs": [
    {
     "data": {
      "text/plain": [
       "Text(0.5, 0, 'Number of Epochs at C=10')"
      ]
     },
     "execution_count": 50,
     "metadata": {},
     "output_type": "execute_result"
    },
    {
     "data": {
      "image/png": "[encoded data removed]",
      "text/plain": [
       "<Figure size 432x288 with 1 Axes>"
      ]
     },
     "metadata": {
      "needs_background": "light"
     },
     "output_type": "display_data"
    }
   ],
   "source": [
    "%matplotlib inline\n",
    "l = [89.9, 90.43, 86.6, 83.0, 80.42, 68.97]\n",
    "a = ['n=5','n=7','n=10','n=20','n=100','n=200']\n",
    "plt.plot(a,l)\n",
    "plt.ylabel('% Accuracy on MNIST data')\n",
    "plt.xlabel('Number of Epochs at C=10')"
   ]
  },
  {
   "cell_type": "markdown",
   "metadata": {},
   "source": [
    "### Ensemble Classifier using Majority Voting"
   ]
  },
  {
   "cell_type": "code",
   "execution_count": 61,
   "metadata": {},
   "outputs": [
    {
     "name": "stdout",
     "output_type": "stream",
     "text": [
      "\n",
      "Accuracy on MNIST Data = 96.17%\n",
      "\n",
      "MNIST Data Confusion Matrix\n",
      "\n",
      "[[ 972    0    1    1    0    2    2    1    1    0]\n",
      " [   0 1123    2    3    0    1    2    1    3    0]\n",
      " [   8    1  992    3    3    1    6    9    8    1]\n",
      " [   0    0   11  974    0    9    0    7    6    3]\n",
      " [   1    0    5    1  954    0    4    1    2   14]\n",
      " [   6    1    2   18    3  841    9    1    7    4]\n",
      " [   7    3    2    1    3    9  932    0    1    0]\n",
      " [   2    9   19    3    2    0    0  983    0   10]\n",
      " [   4    3    6   14    8   17    7    7  903    5]\n",
      " [   9    6    1   12   20    6    0    8    4  943]]\n",
      "\n",
      "Accuracy on USPS Data = 39.757%\n",
      "\n",
      "USPS Data Confusion Matrix\n",
      "\n",
      "[[ 572    2  376   64  257  223   81   79   37  309]\n",
      " [ 101  409  311  273  191  138   20  448   94   15]\n",
      " [ 114   12 1480   90   29  146   40   59   18   11]\n",
      " [  51    3  197 1336    2  334    4   43   18   12]\n",
      " [  19   84   84   40 1109  183   20  213  163   85]\n",
      " [  79    9  279  125   19 1368   49   45   20    7]\n",
      " [ 172   10  508   43   65  370  759   34    9   30]\n",
      " [  81  177  335  481   44  250   14  475  124   19]\n",
      " [ 113   25  197  266   93  837  107   57  269   36]\n",
      " [  23  143  192  458  143  118    9  499  241  174]]\n",
      "\n",
      "Supports No Free Lunch Theorem\n",
      "\n",
      "--- 0.7285676002502441 seconds ---\n"
     ]
    }
   ],
   "source": [
    "start_time = time.time()\n",
    "\n",
    "len_of_mnist = Test_T.shape[0]\n",
    "len_of_usps = USPSTar.shape[0]\n",
    "\n",
    "Y_ensemble_MNIST = np.zeros(len_of_mnist)\n",
    "Y_ensemble_USPS = np.zeros(len_of_usps)\n",
    "\n",
    "for i in range(0,len_of_mnist): #Set of Classes for Data point i. Total 6 Classifiers\n",
    "    temp = np.array([Y_SF_MNIST[i], Y_KNN_MNIST[i], Y_SNN_MNIST[i], Y_LSVM_MNIST[i], Y_RSVM_MNIST[i], Y_RF_MINST[i], Y_MSF_MNIST[i]])\n",
    "    counts = np.bincount(temp)\n",
    "    Y_ensemble_MNIST[i] = np.argmax(counts) # Will Consider the first Mode Only\n",
    "    #Predicted Y Values of Softmax R,NN,SVM,RF \n",
    "\n",
    "for i in range(0,len_of_usps):\n",
    "    temp = np.array([Y_SF_USPS[i], Y_KNN_USPS[i], Y_SNN_USPS[i], Y_LSVM_USPS[i], Y_RSVM_USPS[i], Y_RF_USPS[i], Y_MSF_USPS[i]])\n",
    "    counts = np.bincount(temp)\n",
    "    Y_ensemble_USPS[i] = np.argmax(counts) # Will Consider the first Mode Only\n",
    "    #Predicted Y Values of Softmax R,NN,SVM,RF\n",
    "    \n",
    "Conf_Ensemble_MNIST = confusion_matrix(Test_T, Y_ensemble_MNIST)\n",
    "Conf_Ensemble_USPS = confusion_matrix(USPSTar, Y_ensemble_USPS)\n",
    "\n",
    "print(\"\\nAccuracy on MNIST Data = \"+ str(np.around(accuracy_score(Test_T, Y_ensemble_MNIST)*100, 3))+\"%\")\n",
    "print(\"\\nMNIST Data Confusion Matrix\\n\")\n",
    "print(Conf_Ensemble_MNIST)\n",
    "print(\"\\nAccuracy on USPS Data = \"+ str(np.around(accuracy_score(USPSTar, Y_ensemble_USPS)*100, 3))+\"%\")\n",
    "print(\"\\nUSPS Data Confusion Matrix\\n\")\n",
    "print(Conf_Ensemble_USPS)\n",
    "print(\"\\nSupports No Free Lunch Theorem\")\n",
    "print(\"\\n--- %s seconds ---\" % (time.time() - start_time))"
   ]
  },
  {
   "cell_type": "code",
   "execution_count": 3,
   "metadata": {},
   "outputs": [
    {
     "data": {
      "text/plain": [
       "Text(0.5, 0, 'Classification Algorithm')"
      ]
     },
     "execution_count": 3,
     "metadata": {},
     "output_type": "execute_result"
    },
    {
     "data": {
      "image/png": "[encoded data removed]",
      "text/plain": [
       "<Figure size 648x288 with 1 Axes>"
      ]
     },
     "metadata": {
      "needs_background": "light"
     },
     "output_type": "display_data"
    }
   ],
   "source": [
    "%matplotlib inline\n",
    "l = [91.34, 90.43, 98.22, 97.86, 93.9, 94.35, 96.82, 96.17]\n",
    "a = ['SLR(BGD)','SLR(MBGD)','DNN(K)','DNN(S)','SVM(LK)','SVM(RK)','RF','Ensemble']\n",
    "fig= plt.figure(figsize=(9,4))\n",
    "plt.bar(a,l, align='center', alpha=0.5)\n",
    "plt.ylabel('% Accuracy on MNIST data')\n",
    "plt.xlabel('Classification Algorithm')"
   ]
  },
  {
   "cell_type": "code",
   "execution_count": 4,
   "metadata": {},
   "outputs": [
    {
     "data": {
      "text/plain": [
       "Text(0.5, 0, 'Classification Algorithm')"
      ]
     },
     "execution_count": 4,
     "metadata": {},
     "output_type": "execute_result"
    },
    {
     "data": {
      "image/png": "[encoded data removed]",
      "text/plain": [
       "<Figure size 648x288 with 1 Axes>"
      ]
     },
     "metadata": {
      "needs_background": "light"
     },
     "output_type": "display_data"
    }
   ],
   "source": [
    "%matplotlib inline\n",
    "l = [33.90, 34.39, 61.5, 42.49, 29.12, 38.53, 38.86, 39.75]\n",
    "a = ['SLR(BGD)','SLR(MBGD)','DNN(K)','DNN(S)','SVM(LK)','SVM(RBFK)','RF','Ensemble']\n",
    "fig= plt.figure(figsize=(9,4))\n",
    "plt.bar(a,l, align='center', alpha=0.5)\n",
    "plt.ylabel('% Accuracy on USPS data')\n",
    "plt.xlabel('Classification Algorithm')"
   ]
  }
 ],
 "metadata": {
  "kernelspec": {
   "display_name": "Python 3",
   "language": "python",
   "name": "python3"
  },
  "language_info": {
   "codemirror_mode": {
    "name": "ipython",
    "version": 3
   },
   "file_extension": ".py",
   "mimetype": "text/x-python",
   "name": "python",
   "nbconvert_exporter": "python",
   "pygments_lexer": "ipython3",
   "version": "3.6.7"
  }
 },
 "nbformat": 4,
 "nbformat_minor": 2
}
